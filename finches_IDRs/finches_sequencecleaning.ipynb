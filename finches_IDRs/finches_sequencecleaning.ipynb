{
 "cells": [
  {
   "cell_type": "code",
   "execution_count": 7,
   "metadata": {},
   "outputs": [],
   "source": [
    "import numpy as np\n",
    "import pandas as pd\n",
    "from Bio import SeqIO\n"
   ]
  },
  {
   "cell_type": "code",
   "execution_count": 12,
   "metadata": {},
   "outputs": [],
   "source": [
    "def getseq(fasta):\n",
    "    with open(fasta) as handle:\n",
    "        for record in SeqIO.parse(handle, \"fasta\"):\n",
    "            sequence = record.seq\n",
    "    return sequence\n"
   ]
  },
  {
   "cell_type": "code",
   "execution_count": 13,
   "metadata": {},
   "outputs": [],
   "source": [
    "CCNC = getseq(\"data/CCNC_aa.fasta\")\n",
    "CDK8 = getseq(\"data/CDK8_aa.fasta\")\n",
    "CDK19 = getseq(\"data/CDK19_aa.fasta\")\n",
    "MED13 = getseq(\"data/MED13_aa.fasta\")\n",
    "POL2RA = getseq(\"data/POLR2A_aa.fasta\")"
   ]
  },
  {
   "cell_type": "code",
   "execution_count": null,
   "metadata": {},
   "outputs": [],
   "source": []
  }
 ],
 "metadata": {
  "kernelspec": {
   "display_name": "finches",
   "language": "python",
   "name": "python3"
  },
  "language_info": {
   "codemirror_mode": {
    "name": "ipython",
    "version": 3
   },
   "file_extension": ".py",
   "mimetype": "text/x-python",
   "name": "python",
   "nbconvert_exporter": "python",
   "pygments_lexer": "ipython3",
   "version": "3.9.18"
  }
 },
 "nbformat": 4,
 "nbformat_minor": 2
}
